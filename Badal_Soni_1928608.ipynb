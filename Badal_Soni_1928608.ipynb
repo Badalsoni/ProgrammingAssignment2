{
  "nbformat": 4,
  "nbformat_minor": 0,
  "metadata": {
    "colab": {
      "name": "Badal Soni 1928608",
      "provenance": [],
      "authorship_tag": "ABX9TyMHe0W5Mj8tBgB8k4Q6XNKa",
      "include_colab_link": true
    },
    "kernelspec": {
      "name": "python3",
      "display_name": "Python 3"
    }
  },
  "cells": [
    {
      "cell_type": "markdown",
      "metadata": {
        "id": "view-in-github",
        "colab_type": "text"
      },
      "source": [
        "<a href=\"https://colab.research.google.com/github/Badalsoni/ProgrammingAssignment2/blob/master/Badal_Soni_1928608.ipynb\" target=\"_parent\"><img src=\"https://colab.research.google.com/assets/colab-badge.svg\" alt=\"Open In Colab\"/></a>"
      ]
    },
    {
      "cell_type": "markdown",
      "metadata": {
        "id": "hyzIFOAv0Alv",
        "colab_type": "text"
      },
      "source": [
        "# <center> **CIA 1 | Component 1** </center>\n",
        "## <center> **Building a Basic Calculator** </center>"
      ]
    },
    {
      "cell_type": "markdown",
      "metadata": {
        "id": "yR8y3JcB0AiT",
        "colab_type": "text"
      },
      "source": [
        "## Submission by,\n",
        "### BADAL SONI \n",
        "### 1928608"
      ]
    },
    {
      "cell_type": "code",
      "metadata": {
        "id": "QbAhshicz23C",
        "colab_type": "code",
        "colab": {
          "base_uri": "https://localhost:8080/",
          "height": 311
        },
        "outputId": "7ac86d51-d414-43a2-e300-4618e3b10d37"
      },
      "source": [
        "def Addition(NUMERIC_1, NUMERIC_2):\n",
        "    return NUMERIC_1+ NUMERIC_2\n",
        "    \n",
        "def Substraction(NUMERIC_1, NUMERIC_2):\n",
        "    return NUMERIC_1 - NUMERIC_2 \n",
        "\n",
        "def Multiplication(NUMERIC_1, NUMERIC_2):\n",
        "    return NUMERIC_1 * NUMERIC_2\n",
        "\n",
        "def Division(NUMERIC_1, NUMERIC_2):\n",
        "    if NUMERIC_2==0:\n",
        "        print(\"We cannot divide the number by 0\")        \n",
        "    else:\n",
        "        return NUMERIC_1 / NUMERIC_2  \n",
        "    \n",
        "def Power(NUMERIC_1, NUMERIC_2):\n",
        "\n",
        "    return NUMERIC_1 ** NUMERIC_2\n",
        "\n",
        "def Min(NUMERIC_1, NUMERIC_2):\n",
        "    if NUMERIC_1 < NUMERIC_2:\n",
        "        return NUMERIC_1 \n",
        "    else:\n",
        "        return NUMERIC_2\n",
        "\n",
        "def Max(NUMERIC_1, NUMERIC_2):\n",
        "    if NUMERIC_1 > NUMERIC_2:\n",
        "        return NUMERIC_1 \n",
        "    else:\n",
        "        return NUMERIC_2\n",
        "\n",
        "    return NUMERIC_1 < NUMERIC_2\n",
        "  \n",
        "def Percentage_change(NUMERIC_1, NUMERIC_2):\n",
        "    return ((NUMERIC_1 - NUMERIC_2)/NUMERIC_2)*100  \n",
        "# Give the user some context.\n",
        "print(\"\\nWelcome to the Basic calculator. Feel free to use it\")\n",
        "\n",
        "# Set an initial value for choice other than the value for 'quit'.\n",
        "choice = ''\n",
        "\n",
        "# Start a loop that runs until the user enters the value for 'quit'.\n",
        "while choice != 9:\n",
        "\n",
        "    \n",
        "    # Give all the choices in a series of print statements.\n",
        "    print(\"\\nThe list of operators are mentioned below:\" )\n",
        "    print(\"\\n[1] Enter 1 for Addition.\")\n",
        "    print(\"[2] Enter 2 for Substraction.\")\n",
        "    print(\"[3] Enter 3 for Multiplication.\")\n",
        "    print(\"[4] Enter 4 for Division.\" )\n",
        "    print(\"[5] Enter 5 for Power.\" )\n",
        "    print(\"[6] Enter 6 for Min of 2 numbers.\" )\n",
        "    print(\"[7] Enter 7 for Max of 2 numbers.\" )\n",
        "    print(\"[8] Enter 8 for Percentage_change.\" )    \n",
        "    print(\"[9] Enter 9 to quit.\")\n",
        "    \n",
        "    choice = input(\"\\nWhat operator would you like to choose? \") \n",
        "    if choice ==\"5\":\n",
        "        print(\"Please enter the first value for base and the second value as raise to the power\")\n",
        "    if choice== \"9\":\n",
        "        \n",
        "        print(\"\\nThanks for using my calculator!Come back if you any more calculation.\")\n",
        "        break\n",
        "    NUMERIC_1 = int(input(\"ENTER A 1st VALUE:\"))    \n",
        "    NUMERIC_2 = int(input(\"ENTER A 2nd VALUE:\"))    \n",
        "    if choice==\"1\":\n",
        "        print(NUMERIC_1, \"+\", NUMERIC_2, \"=\",Addition(NUMERIC_1, NUMERIC_2))\n",
        "    elif choice==\"2\":\n",
        "        print(NUMERIC_1, \"-\", NUMERIC_2, \"=\",Substraction(NUMERIC_1, NUMERIC_2))       \n",
        "    elif choice==\"3\":\n",
        "        print(NUMERIC_1, \"*\", NUMERIC_2, \"=\",Multiplication(NUMERIC_1, NUMERIC_2))\n",
        "    elif choice==\"4\":\n",
        "        print(NUMERIC_1, \"/\", NUMERIC_2, \"=\",Division(NUMERIC_1, NUMERIC_2))\n",
        "    elif choice==\"5\":\n",
        "        print(\"Please enter the first value for base and the second value as raise to the power \")\n",
        "        print(NUMERIC_1, \"**\", NUMERIC_2, \"=\",Power(NUMERIC_1, NUMERIC_2))\n",
        "    elif choice==\"6\":\n",
        "        print(NUMERIC_1, \",\", NUMERIC_2, \"=\",Min(NUMERIC_1, NUMERIC_2))\n",
        "    elif choice==\"7\":\n",
        "        print(NUMERIC_1, \",\", NUMERIC_2, \"=\",Max(NUMERIC_1, NUMERIC_2))    \n",
        "    elif choice==\"8\":\n",
        "        print(NUMERIC_1, \"%\", NUMERIC_2, \"=\",Percentage_change(NUMERIC_1, NUMERIC_2))       \n",
        "    else:\n",
        "       \n",
        "        print(\"invalid operator\")  \n",
        "print(\"\\nThanks again, bye now.\")  "
      ],
      "execution_count": null,
      "outputs": [
        {
          "output_type": "stream",
          "text": [
            "\n",
            "Welcome to the Basic calculator. Feel free to use it\n",
            "\n",
            "The list of operators are mentioned below:\n",
            "\n",
            "[1] Enter 1 for Addition.\n",
            "[2] Enter 2 for Substraction.\n",
            "[3] Enter 3 for Multiplication.\n",
            "[4] Enter 4 for Division.\n",
            "[5] Enter 5 for Power.\n",
            "[6] Enter 6 for Min of 2 numbers.\n",
            "[7] Enter 7 for Max of 2 numbers.\n",
            "[8] Enter 8 for Percentage_change.\n",
            "[9] Enter 9 to quit.\n"
          ],
          "name": "stdout"
        }
      ]
    }
  ]
}